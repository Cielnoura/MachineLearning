{
  "nbformat": 4,
  "nbformat_minor": 0,
  "metadata": {
    "colab": {
      "provenance": []
    },
    "kernelspec": {
      "name": "python3",
      "display_name": "Python 3"
    },
    "language_info": {
      "name": "python"
    }
  },
  "cells": [
    {
      "cell_type": "markdown",
      "source": [
        "# **Confusion matrix & k-fold cross validation: DT, random forest, NB, and Perceptron**:"
      ],
      "metadata": {
        "id": "oY8IIKyNCxkQ"
      }
    },
    {
      "cell_type": "code",
      "execution_count": 1,
      "metadata": {
        "id": "i4J6Zbx4gmMg"
      },
      "outputs": [],
      "source": [
        "#First, import the important libraries:\n",
        "from sklearn.metrics import accuracy_score, precision_score, recall_score, f1_score\n",
        "from sklearn.model_selection import train_test_split\n",
        "from sklearn.tree import DecisionTreeClassifier\n",
        "from sklearn.ensemble import RandomForestClassifier\n",
        "from sklearn.naive_bayes import GaussianNB\n",
        "from sklearn.linear_model import Perceptron\n",
        "from sklearn.metrics import ConfusionMatrixDisplay\n",
        "from sklearn.metrics import confusion_matrix\n",
        "from sklearn.model_selection import cross_val_score, StratifiedKFold, KFold\n",
        "from sklearn.svm import SVC\n",
        "import numpy as np #It is a numeric python module which provides fast maths functions for calculations.\n",
        "import pandas as pd #Used to read and write different files.\n",
        "from sklearn import tree\n",
        "from matplotlib import pyplot as plt\n",
        "from sklearn import preprocessing\n"
      ]
    },
    {
      "cell_type": "code",
      "execution_count": 2,
      "metadata": {
        "id": "2ONmt6emJcOX",
        "colab": {
          "base_uri": "https://localhost:8080/"
        },
        "outputId": "111de189-325b-4855-a8b5-d87a20c8bc5b"
      },
      "outputs": [
        {
          "output_type": "stream",
          "name": "stdout",
          "text": [
            "Mounted at /content/drive\n"
          ]
        }
      ],
      "source": [
        "#Second, connect to Google Drive:\n",
        "from google.colab import drive\n",
        "drive.mount('/content/drive')"
      ]
    },
    {
      "cell_type": "code",
      "source": [
        "# Step1:Create dataset\n",
        "data = pd.read_csv(\"/content/drive/My Drive/DT/healthcare-dataset-stroke-data.csv\")\n",
        "#The goal of this database is to classify cells according to information to the malignant cells and benign cells \n",
        "#look at top 5 rows in data set\n",
        "data.head(10)\n"
      ],
      "metadata": {
        "id": "g8dyDBmtituq",
        "colab": {
          "base_uri": "https://localhost:8080/",
          "height": 363
        },
        "outputId": "2615b3e8-fb1d-40cf-becf-475dadf3b8b1"
      },
      "execution_count": 3,
      "outputs": [
        {
          "output_type": "execute_result",
          "data": {
            "text/plain": [
              "      id  gender   age  hypertension  heart_disease ever_married  \\\n",
              "0   9046    Male  67.0             0              1          Yes   \n",
              "1  51676  Female  61.0             0              0          Yes   \n",
              "2  31112    Male  80.0             0              1          Yes   \n",
              "3  60182  Female  49.0             0              0          Yes   \n",
              "4   1665  Female  79.0             1              0          Yes   \n",
              "5  56669    Male  81.0             0              0          Yes   \n",
              "6  53882    Male  74.0             1              1          Yes   \n",
              "7  10434  Female  69.0             0              0           No   \n",
              "8  27419  Female  59.0             0              0          Yes   \n",
              "9  60491  Female  78.0             0              0          Yes   \n",
              "\n",
              "       work_type Residence_type  avg_glucose_level   bmi   smoking_status  \\\n",
              "0        Private          Urban             228.69  36.6  formerly smoked   \n",
              "1  Self-employed          Rural             202.21   NaN     never smoked   \n",
              "2        Private          Rural             105.92  32.5     never smoked   \n",
              "3        Private          Urban             171.23  34.4           smokes   \n",
              "4  Self-employed          Rural             174.12  24.0     never smoked   \n",
              "5        Private          Urban             186.21  29.0  formerly smoked   \n",
              "6        Private          Rural              70.09  27.4     never smoked   \n",
              "7        Private          Urban              94.39  22.8     never smoked   \n",
              "8        Private          Rural              76.15   NaN          Unknown   \n",
              "9        Private          Urban              58.57  24.2          Unknown   \n",
              "\n",
              "   stroke  \n",
              "0       1  \n",
              "1       1  \n",
              "2       1  \n",
              "3       1  \n",
              "4       1  \n",
              "5       1  \n",
              "6       1  \n",
              "7       1  \n",
              "8       1  \n",
              "9       1  "
            ],
            "text/html": [
              "\n",
              "  <div id=\"df-be1f463d-331b-4913-93ca-eb4c7dabbc58\">\n",
              "    <div class=\"colab-df-container\">\n",
              "      <div>\n",
              "<style scoped>\n",
              "    .dataframe tbody tr th:only-of-type {\n",
              "        vertical-align: middle;\n",
              "    }\n",
              "\n",
              "    .dataframe tbody tr th {\n",
              "        vertical-align: top;\n",
              "    }\n",
              "\n",
              "    .dataframe thead th {\n",
              "        text-align: right;\n",
              "    }\n",
              "</style>\n",
              "<table border=\"1\" class=\"dataframe\">\n",
              "  <thead>\n",
              "    <tr style=\"text-align: right;\">\n",
              "      <th></th>\n",
              "      <th>id</th>\n",
              "      <th>gender</th>\n",
              "      <th>age</th>\n",
              "      <th>hypertension</th>\n",
              "      <th>heart_disease</th>\n",
              "      <th>ever_married</th>\n",
              "      <th>work_type</th>\n",
              "      <th>Residence_type</th>\n",
              "      <th>avg_glucose_level</th>\n",
              "      <th>bmi</th>\n",
              "      <th>smoking_status</th>\n",
              "      <th>stroke</th>\n",
              "    </tr>\n",
              "  </thead>\n",
              "  <tbody>\n",
              "    <tr>\n",
              "      <th>0</th>\n",
              "      <td>9046</td>\n",
              "      <td>Male</td>\n",
              "      <td>67.0</td>\n",
              "      <td>0</td>\n",
              "      <td>1</td>\n",
              "      <td>Yes</td>\n",
              "      <td>Private</td>\n",
              "      <td>Urban</td>\n",
              "      <td>228.69</td>\n",
              "      <td>36.6</td>\n",
              "      <td>formerly smoked</td>\n",
              "      <td>1</td>\n",
              "    </tr>\n",
              "    <tr>\n",
              "      <th>1</th>\n",
              "      <td>51676</td>\n",
              "      <td>Female</td>\n",
              "      <td>61.0</td>\n",
              "      <td>0</td>\n",
              "      <td>0</td>\n",
              "      <td>Yes</td>\n",
              "      <td>Self-employed</td>\n",
              "      <td>Rural</td>\n",
              "      <td>202.21</td>\n",
              "      <td>NaN</td>\n",
              "      <td>never smoked</td>\n",
              "      <td>1</td>\n",
              "    </tr>\n",
              "    <tr>\n",
              "      <th>2</th>\n",
              "      <td>31112</td>\n",
              "      <td>Male</td>\n",
              "      <td>80.0</td>\n",
              "      <td>0</td>\n",
              "      <td>1</td>\n",
              "      <td>Yes</td>\n",
              "      <td>Private</td>\n",
              "      <td>Rural</td>\n",
              "      <td>105.92</td>\n",
              "      <td>32.5</td>\n",
              "      <td>never smoked</td>\n",
              "      <td>1</td>\n",
              "    </tr>\n",
              "    <tr>\n",
              "      <th>3</th>\n",
              "      <td>60182</td>\n",
              "      <td>Female</td>\n",
              "      <td>49.0</td>\n",
              "      <td>0</td>\n",
              "      <td>0</td>\n",
              "      <td>Yes</td>\n",
              "      <td>Private</td>\n",
              "      <td>Urban</td>\n",
              "      <td>171.23</td>\n",
              "      <td>34.4</td>\n",
              "      <td>smokes</td>\n",
              "      <td>1</td>\n",
              "    </tr>\n",
              "    <tr>\n",
              "      <th>4</th>\n",
              "      <td>1665</td>\n",
              "      <td>Female</td>\n",
              "      <td>79.0</td>\n",
              "      <td>1</td>\n",
              "      <td>0</td>\n",
              "      <td>Yes</td>\n",
              "      <td>Self-employed</td>\n",
              "      <td>Rural</td>\n",
              "      <td>174.12</td>\n",
              "      <td>24.0</td>\n",
              "      <td>never smoked</td>\n",
              "      <td>1</td>\n",
              "    </tr>\n",
              "    <tr>\n",
              "      <th>5</th>\n",
              "      <td>56669</td>\n",
              "      <td>Male</td>\n",
              "      <td>81.0</td>\n",
              "      <td>0</td>\n",
              "      <td>0</td>\n",
              "      <td>Yes</td>\n",
              "      <td>Private</td>\n",
              "      <td>Urban</td>\n",
              "      <td>186.21</td>\n",
              "      <td>29.0</td>\n",
              "      <td>formerly smoked</td>\n",
              "      <td>1</td>\n",
              "    </tr>\n",
              "    <tr>\n",
              "      <th>6</th>\n",
              "      <td>53882</td>\n",
              "      <td>Male</td>\n",
              "      <td>74.0</td>\n",
              "      <td>1</td>\n",
              "      <td>1</td>\n",
              "      <td>Yes</td>\n",
              "      <td>Private</td>\n",
              "      <td>Rural</td>\n",
              "      <td>70.09</td>\n",
              "      <td>27.4</td>\n",
              "      <td>never smoked</td>\n",
              "      <td>1</td>\n",
              "    </tr>\n",
              "    <tr>\n",
              "      <th>7</th>\n",
              "      <td>10434</td>\n",
              "      <td>Female</td>\n",
              "      <td>69.0</td>\n",
              "      <td>0</td>\n",
              "      <td>0</td>\n",
              "      <td>No</td>\n",
              "      <td>Private</td>\n",
              "      <td>Urban</td>\n",
              "      <td>94.39</td>\n",
              "      <td>22.8</td>\n",
              "      <td>never smoked</td>\n",
              "      <td>1</td>\n",
              "    </tr>\n",
              "    <tr>\n",
              "      <th>8</th>\n",
              "      <td>27419</td>\n",
              "      <td>Female</td>\n",
              "      <td>59.0</td>\n",
              "      <td>0</td>\n",
              "      <td>0</td>\n",
              "      <td>Yes</td>\n",
              "      <td>Private</td>\n",
              "      <td>Rural</td>\n",
              "      <td>76.15</td>\n",
              "      <td>NaN</td>\n",
              "      <td>Unknown</td>\n",
              "      <td>1</td>\n",
              "    </tr>\n",
              "    <tr>\n",
              "      <th>9</th>\n",
              "      <td>60491</td>\n",
              "      <td>Female</td>\n",
              "      <td>78.0</td>\n",
              "      <td>0</td>\n",
              "      <td>0</td>\n",
              "      <td>Yes</td>\n",
              "      <td>Private</td>\n",
              "      <td>Urban</td>\n",
              "      <td>58.57</td>\n",
              "      <td>24.2</td>\n",
              "      <td>Unknown</td>\n",
              "      <td>1</td>\n",
              "    </tr>\n",
              "  </tbody>\n",
              "</table>\n",
              "</div>\n",
              "      <button class=\"colab-df-convert\" onclick=\"convertToInteractive('df-be1f463d-331b-4913-93ca-eb4c7dabbc58')\"\n",
              "              title=\"Convert this dataframe to an interactive table.\"\n",
              "              style=\"display:none;\">\n",
              "        \n",
              "  <svg xmlns=\"http://www.w3.org/2000/svg\" height=\"24px\"viewBox=\"0 0 24 24\"\n",
              "       width=\"24px\">\n",
              "    <path d=\"M0 0h24v24H0V0z\" fill=\"none\"/>\n",
              "    <path d=\"M18.56 5.44l.94 2.06.94-2.06 2.06-.94-2.06-.94-.94-2.06-.94 2.06-2.06.94zm-11 1L8.5 8.5l.94-2.06 2.06-.94-2.06-.94L8.5 2.5l-.94 2.06-2.06.94zm10 10l.94 2.06.94-2.06 2.06-.94-2.06-.94-.94-2.06-.94 2.06-2.06.94z\"/><path d=\"M17.41 7.96l-1.37-1.37c-.4-.4-.92-.59-1.43-.59-.52 0-1.04.2-1.43.59L10.3 9.45l-7.72 7.72c-.78.78-.78 2.05 0 2.83L4 21.41c.39.39.9.59 1.41.59.51 0 1.02-.2 1.41-.59l7.78-7.78 2.81-2.81c.8-.78.8-2.07 0-2.86zM5.41 20L4 18.59l7.72-7.72 1.47 1.35L5.41 20z\"/>\n",
              "  </svg>\n",
              "      </button>\n",
              "      \n",
              "  <style>\n",
              "    .colab-df-container {\n",
              "      display:flex;\n",
              "      flex-wrap:wrap;\n",
              "      gap: 12px;\n",
              "    }\n",
              "\n",
              "    .colab-df-convert {\n",
              "      background-color: #E8F0FE;\n",
              "      border: none;\n",
              "      border-radius: 50%;\n",
              "      cursor: pointer;\n",
              "      display: none;\n",
              "      fill: #1967D2;\n",
              "      height: 32px;\n",
              "      padding: 0 0 0 0;\n",
              "      width: 32px;\n",
              "    }\n",
              "\n",
              "    .colab-df-convert:hover {\n",
              "      background-color: #E2EBFA;\n",
              "      box-shadow: 0px 1px 2px rgba(60, 64, 67, 0.3), 0px 1px 3px 1px rgba(60, 64, 67, 0.15);\n",
              "      fill: #174EA6;\n",
              "    }\n",
              "\n",
              "    [theme=dark] .colab-df-convert {\n",
              "      background-color: #3B4455;\n",
              "      fill: #D2E3FC;\n",
              "    }\n",
              "\n",
              "    [theme=dark] .colab-df-convert:hover {\n",
              "      background-color: #434B5C;\n",
              "      box-shadow: 0px 1px 3px 1px rgba(0, 0, 0, 0.15);\n",
              "      filter: drop-shadow(0px 1px 2px rgba(0, 0, 0, 0.3));\n",
              "      fill: #FFFFFF;\n",
              "    }\n",
              "  </style>\n",
              "\n",
              "      <script>\n",
              "        const buttonEl =\n",
              "          document.querySelector('#df-be1f463d-331b-4913-93ca-eb4c7dabbc58 button.colab-df-convert');\n",
              "        buttonEl.style.display =\n",
              "          google.colab.kernel.accessAllowed ? 'block' : 'none';\n",
              "\n",
              "        async function convertToInteractive(key) {\n",
              "          const element = document.querySelector('#df-be1f463d-331b-4913-93ca-eb4c7dabbc58');\n",
              "          const dataTable =\n",
              "            await google.colab.kernel.invokeFunction('convertToInteractive',\n",
              "                                                     [key], {});\n",
              "          if (!dataTable) return;\n",
              "\n",
              "          const docLinkHtml = 'Like what you see? Visit the ' +\n",
              "            '<a target=\"_blank\" href=https://colab.research.google.com/notebooks/data_table.ipynb>data table notebook</a>'\n",
              "            + ' to learn more about interactive tables.';\n",
              "          element.innerHTML = '';\n",
              "          dataTable['output_type'] = 'display_data';\n",
              "          await google.colab.output.renderOutput(dataTable, element);\n",
              "          const docLink = document.createElement('div');\n",
              "          docLink.innerHTML = docLinkHtml;\n",
              "          element.appendChild(docLink);\n",
              "        }\n",
              "      </script>\n",
              "    </div>\n",
              "  </div>\n",
              "  "
            ]
          },
          "metadata": {},
          "execution_count": 3
        }
      ]
    },
    {
      "cell_type": "code",
      "source": [
        "#get the info\n",
        "data.info()"
      ],
      "metadata": {
        "id": "YOhRPF9KJuEY",
        "colab": {
          "base_uri": "https://localhost:8080/"
        },
        "outputId": "42c66cbe-35ff-4bf8-d366-e2fb41cc077a"
      },
      "execution_count": 4,
      "outputs": [
        {
          "output_type": "stream",
          "name": "stdout",
          "text": [
            "<class 'pandas.core.frame.DataFrame'>\n",
            "RangeIndex: 5110 entries, 0 to 5109\n",
            "Data columns (total 12 columns):\n",
            " #   Column             Non-Null Count  Dtype  \n",
            "---  ------             --------------  -----  \n",
            " 0   id                 5110 non-null   int64  \n",
            " 1   gender             5110 non-null   object \n",
            " 2   age                5110 non-null   float64\n",
            " 3   hypertension       5110 non-null   int64  \n",
            " 4   heart_disease      5110 non-null   int64  \n",
            " 5   ever_married       5110 non-null   object \n",
            " 6   work_type          5110 non-null   object \n",
            " 7   Residence_type     5110 non-null   object \n",
            " 8   avg_glucose_level  5110 non-null   float64\n",
            " 9   bmi                4909 non-null   float64\n",
            " 10  smoking_status     5110 non-null   object \n",
            " 11  stroke             5110 non-null   int64  \n",
            "dtypes: float64(3), int64(4), object(5)\n",
            "memory usage: 479.2+ KB\n"
          ]
        }
      ]
    },
    {
      "cell_type": "code",
      "source": [
        "##Delete first column /  Deleting the unimportant features during the prediction process\n",
        "data=data.drop(['id'], axis = 1)\n"
      ],
      "metadata": {
        "id": "qiyIAl6xJqUd"
      },
      "execution_count": 5,
      "outputs": []
    },
    {
      "cell_type": "code",
      "source": [
        "#is there any missing values?\n",
        "data.isnull()"
      ],
      "metadata": {
        "colab": {
          "base_uri": "https://localhost:8080/",
          "height": 423
        },
        "id": "NEFOmbjeDdFL",
        "outputId": "46e35404-9176-419c-c8f2-9a1c98aba12c"
      },
      "execution_count": 6,
      "outputs": [
        {
          "output_type": "execute_result",
          "data": {
            "text/plain": [
              "      gender    age  hypertension  heart_disease  ever_married  work_type  \\\n",
              "0      False  False         False          False         False      False   \n",
              "1      False  False         False          False         False      False   \n",
              "2      False  False         False          False         False      False   \n",
              "3      False  False         False          False         False      False   \n",
              "4      False  False         False          False         False      False   \n",
              "...      ...    ...           ...            ...           ...        ...   \n",
              "5105   False  False         False          False         False      False   \n",
              "5106   False  False         False          False         False      False   \n",
              "5107   False  False         False          False         False      False   \n",
              "5108   False  False         False          False         False      False   \n",
              "5109   False  False         False          False         False      False   \n",
              "\n",
              "      Residence_type  avg_glucose_level    bmi  smoking_status  stroke  \n",
              "0              False              False  False           False   False  \n",
              "1              False              False   True           False   False  \n",
              "2              False              False  False           False   False  \n",
              "3              False              False  False           False   False  \n",
              "4              False              False  False           False   False  \n",
              "...              ...                ...    ...             ...     ...  \n",
              "5105           False              False   True           False   False  \n",
              "5106           False              False  False           False   False  \n",
              "5107           False              False  False           False   False  \n",
              "5108           False              False  False           False   False  \n",
              "5109           False              False  False           False   False  \n",
              "\n",
              "[5110 rows x 11 columns]"
            ],
            "text/html": [
              "\n",
              "  <div id=\"df-a250198a-aef6-498b-b826-45386873aae8\">\n",
              "    <div class=\"colab-df-container\">\n",
              "      <div>\n",
              "<style scoped>\n",
              "    .dataframe tbody tr th:only-of-type {\n",
              "        vertical-align: middle;\n",
              "    }\n",
              "\n",
              "    .dataframe tbody tr th {\n",
              "        vertical-align: top;\n",
              "    }\n",
              "\n",
              "    .dataframe thead th {\n",
              "        text-align: right;\n",
              "    }\n",
              "</style>\n",
              "<table border=\"1\" class=\"dataframe\">\n",
              "  <thead>\n",
              "    <tr style=\"text-align: right;\">\n",
              "      <th></th>\n",
              "      <th>gender</th>\n",
              "      <th>age</th>\n",
              "      <th>hypertension</th>\n",
              "      <th>heart_disease</th>\n",
              "      <th>ever_married</th>\n",
              "      <th>work_type</th>\n",
              "      <th>Residence_type</th>\n",
              "      <th>avg_glucose_level</th>\n",
              "      <th>bmi</th>\n",
              "      <th>smoking_status</th>\n",
              "      <th>stroke</th>\n",
              "    </tr>\n",
              "  </thead>\n",
              "  <tbody>\n",
              "    <tr>\n",
              "      <th>0</th>\n",
              "      <td>False</td>\n",
              "      <td>False</td>\n",
              "      <td>False</td>\n",
              "      <td>False</td>\n",
              "      <td>False</td>\n",
              "      <td>False</td>\n",
              "      <td>False</td>\n",
              "      <td>False</td>\n",
              "      <td>False</td>\n",
              "      <td>False</td>\n",
              "      <td>False</td>\n",
              "    </tr>\n",
              "    <tr>\n",
              "      <th>1</th>\n",
              "      <td>False</td>\n",
              "      <td>False</td>\n",
              "      <td>False</td>\n",
              "      <td>False</td>\n",
              "      <td>False</td>\n",
              "      <td>False</td>\n",
              "      <td>False</td>\n",
              "      <td>False</td>\n",
              "      <td>True</td>\n",
              "      <td>False</td>\n",
              "      <td>False</td>\n",
              "    </tr>\n",
              "    <tr>\n",
              "      <th>2</th>\n",
              "      <td>False</td>\n",
              "      <td>False</td>\n",
              "      <td>False</td>\n",
              "      <td>False</td>\n",
              "      <td>False</td>\n",
              "      <td>False</td>\n",
              "      <td>False</td>\n",
              "      <td>False</td>\n",
              "      <td>False</td>\n",
              "      <td>False</td>\n",
              "      <td>False</td>\n",
              "    </tr>\n",
              "    <tr>\n",
              "      <th>3</th>\n",
              "      <td>False</td>\n",
              "      <td>False</td>\n",
              "      <td>False</td>\n",
              "      <td>False</td>\n",
              "      <td>False</td>\n",
              "      <td>False</td>\n",
              "      <td>False</td>\n",
              "      <td>False</td>\n",
              "      <td>False</td>\n",
              "      <td>False</td>\n",
              "      <td>False</td>\n",
              "    </tr>\n",
              "    <tr>\n",
              "      <th>4</th>\n",
              "      <td>False</td>\n",
              "      <td>False</td>\n",
              "      <td>False</td>\n",
              "      <td>False</td>\n",
              "      <td>False</td>\n",
              "      <td>False</td>\n",
              "      <td>False</td>\n",
              "      <td>False</td>\n",
              "      <td>False</td>\n",
              "      <td>False</td>\n",
              "      <td>False</td>\n",
              "    </tr>\n",
              "    <tr>\n",
              "      <th>...</th>\n",
              "      <td>...</td>\n",
              "      <td>...</td>\n",
              "      <td>...</td>\n",
              "      <td>...</td>\n",
              "      <td>...</td>\n",
              "      <td>...</td>\n",
              "      <td>...</td>\n",
              "      <td>...</td>\n",
              "      <td>...</td>\n",
              "      <td>...</td>\n",
              "      <td>...</td>\n",
              "    </tr>\n",
              "    <tr>\n",
              "      <th>5105</th>\n",
              "      <td>False</td>\n",
              "      <td>False</td>\n",
              "      <td>False</td>\n",
              "      <td>False</td>\n",
              "      <td>False</td>\n",
              "      <td>False</td>\n",
              "      <td>False</td>\n",
              "      <td>False</td>\n",
              "      <td>True</td>\n",
              "      <td>False</td>\n",
              "      <td>False</td>\n",
              "    </tr>\n",
              "    <tr>\n",
              "      <th>5106</th>\n",
              "      <td>False</td>\n",
              "      <td>False</td>\n",
              "      <td>False</td>\n",
              "      <td>False</td>\n",
              "      <td>False</td>\n",
              "      <td>False</td>\n",
              "      <td>False</td>\n",
              "      <td>False</td>\n",
              "      <td>False</td>\n",
              "      <td>False</td>\n",
              "      <td>False</td>\n",
              "    </tr>\n",
              "    <tr>\n",
              "      <th>5107</th>\n",
              "      <td>False</td>\n",
              "      <td>False</td>\n",
              "      <td>False</td>\n",
              "      <td>False</td>\n",
              "      <td>False</td>\n",
              "      <td>False</td>\n",
              "      <td>False</td>\n",
              "      <td>False</td>\n",
              "      <td>False</td>\n",
              "      <td>False</td>\n",
              "      <td>False</td>\n",
              "    </tr>\n",
              "    <tr>\n",
              "      <th>5108</th>\n",
              "      <td>False</td>\n",
              "      <td>False</td>\n",
              "      <td>False</td>\n",
              "      <td>False</td>\n",
              "      <td>False</td>\n",
              "      <td>False</td>\n",
              "      <td>False</td>\n",
              "      <td>False</td>\n",
              "      <td>False</td>\n",
              "      <td>False</td>\n",
              "      <td>False</td>\n",
              "    </tr>\n",
              "    <tr>\n",
              "      <th>5109</th>\n",
              "      <td>False</td>\n",
              "      <td>False</td>\n",
              "      <td>False</td>\n",
              "      <td>False</td>\n",
              "      <td>False</td>\n",
              "      <td>False</td>\n",
              "      <td>False</td>\n",
              "      <td>False</td>\n",
              "      <td>False</td>\n",
              "      <td>False</td>\n",
              "      <td>False</td>\n",
              "    </tr>\n",
              "  </tbody>\n",
              "</table>\n",
              "<p>5110 rows × 11 columns</p>\n",
              "</div>\n",
              "      <button class=\"colab-df-convert\" onclick=\"convertToInteractive('df-a250198a-aef6-498b-b826-45386873aae8')\"\n",
              "              title=\"Convert this dataframe to an interactive table.\"\n",
              "              style=\"display:none;\">\n",
              "        \n",
              "  <svg xmlns=\"http://www.w3.org/2000/svg\" height=\"24px\"viewBox=\"0 0 24 24\"\n",
              "       width=\"24px\">\n",
              "    <path d=\"M0 0h24v24H0V0z\" fill=\"none\"/>\n",
              "    <path d=\"M18.56 5.44l.94 2.06.94-2.06 2.06-.94-2.06-.94-.94-2.06-.94 2.06-2.06.94zm-11 1L8.5 8.5l.94-2.06 2.06-.94-2.06-.94L8.5 2.5l-.94 2.06-2.06.94zm10 10l.94 2.06.94-2.06 2.06-.94-2.06-.94-.94-2.06-.94 2.06-2.06.94z\"/><path d=\"M17.41 7.96l-1.37-1.37c-.4-.4-.92-.59-1.43-.59-.52 0-1.04.2-1.43.59L10.3 9.45l-7.72 7.72c-.78.78-.78 2.05 0 2.83L4 21.41c.39.39.9.59 1.41.59.51 0 1.02-.2 1.41-.59l7.78-7.78 2.81-2.81c.8-.78.8-2.07 0-2.86zM5.41 20L4 18.59l7.72-7.72 1.47 1.35L5.41 20z\"/>\n",
              "  </svg>\n",
              "      </button>\n",
              "      \n",
              "  <style>\n",
              "    .colab-df-container {\n",
              "      display:flex;\n",
              "      flex-wrap:wrap;\n",
              "      gap: 12px;\n",
              "    }\n",
              "\n",
              "    .colab-df-convert {\n",
              "      background-color: #E8F0FE;\n",
              "      border: none;\n",
              "      border-radius: 50%;\n",
              "      cursor: pointer;\n",
              "      display: none;\n",
              "      fill: #1967D2;\n",
              "      height: 32px;\n",
              "      padding: 0 0 0 0;\n",
              "      width: 32px;\n",
              "    }\n",
              "\n",
              "    .colab-df-convert:hover {\n",
              "      background-color: #E2EBFA;\n",
              "      box-shadow: 0px 1px 2px rgba(60, 64, 67, 0.3), 0px 1px 3px 1px rgba(60, 64, 67, 0.15);\n",
              "      fill: #174EA6;\n",
              "    }\n",
              "\n",
              "    [theme=dark] .colab-df-convert {\n",
              "      background-color: #3B4455;\n",
              "      fill: #D2E3FC;\n",
              "    }\n",
              "\n",
              "    [theme=dark] .colab-df-convert:hover {\n",
              "      background-color: #434B5C;\n",
              "      box-shadow: 0px 1px 3px 1px rgba(0, 0, 0, 0.15);\n",
              "      filter: drop-shadow(0px 1px 2px rgba(0, 0, 0, 0.3));\n",
              "      fill: #FFFFFF;\n",
              "    }\n",
              "  </style>\n",
              "\n",
              "      <script>\n",
              "        const buttonEl =\n",
              "          document.querySelector('#df-a250198a-aef6-498b-b826-45386873aae8 button.colab-df-convert');\n",
              "        buttonEl.style.display =\n",
              "          google.colab.kernel.accessAllowed ? 'block' : 'none';\n",
              "\n",
              "        async function convertToInteractive(key) {\n",
              "          const element = document.querySelector('#df-a250198a-aef6-498b-b826-45386873aae8');\n",
              "          const dataTable =\n",
              "            await google.colab.kernel.invokeFunction('convertToInteractive',\n",
              "                                                     [key], {});\n",
              "          if (!dataTable) return;\n",
              "\n",
              "          const docLinkHtml = 'Like what you see? Visit the ' +\n",
              "            '<a target=\"_blank\" href=https://colab.research.google.com/notebooks/data_table.ipynb>data table notebook</a>'\n",
              "            + ' to learn more about interactive tables.';\n",
              "          element.innerHTML = '';\n",
              "          dataTable['output_type'] = 'display_data';\n",
              "          await google.colab.output.renderOutput(dataTable, element);\n",
              "          const docLink = document.createElement('div');\n",
              "          docLink.innerHTML = docLinkHtml;\n",
              "          element.appendChild(docLink);\n",
              "        }\n",
              "      </script>\n",
              "    </div>\n",
              "  </div>\n",
              "  "
            ]
          },
          "metadata": {},
          "execution_count": 6
        }
      ]
    },
    {
      "cell_type": "markdown",
      "source": [
        "# **It shows that there's two missing values in (BMI) column, there're many technigues to handel missing values, we can simply delete them, because it won't abortives the result.**\n"
      ],
      "metadata": {
        "id": "rXrSqL_OQ9sZ"
      }
    },
    {
      "cell_type": "code",
      "source": [
        "#Removing the missing values (NaN)\n",
        "data=data.dropna() "
      ],
      "metadata": {
        "id": "N-4l0KENJ6UP"
      },
      "execution_count": 7,
      "outputs": []
    },
    {
      "cell_type": "markdown",
      "source": [
        "#**We can see that there's non numerical coulmns. Decision trees works with categorical (non-numerical) data but it should be convert to integers first. So, we have to convert the non numerical columns: Gender, Ever married, work type, Residence type, and smoking_status into numerical values**\n"
      ],
      "metadata": {
        "id": "5ux33vBxaWoG"
      }
    },
    {
      "cell_type": "code",
      "source": [
        "le=preprocessing.LabelEncoder()\n",
        "data['gender']=le.fit_transform(data['gender'])\n",
        "data['ever_married']=le.fit_transform(data['ever_married'])\n",
        "data['work_type']=le.fit_transform(data['work_type'])\n",
        "data['Residence_type']=le.fit_transform(data['Residence_type'])\n",
        "data['smoking_status']=le.fit_transform(data['smoking_status'])\n",
        "#to check if i convert the (string) to (float) \n",
        "data.head(10)\n",
        "\n",
        "\n"
      ],
      "metadata": {
        "colab": {
          "base_uri": "https://localhost:8080/",
          "height": 916
        },
        "id": "sZtzbsmSJ_4D",
        "outputId": "2f646965-cc46-44d5-f1cf-9805579ee502"
      },
      "execution_count": 8,
      "outputs": [
        {
          "output_type": "stream",
          "name": "stderr",
          "text": [
            "<ipython-input-8-64b75c752621>:2: SettingWithCopyWarning: \n",
            "A value is trying to be set on a copy of a slice from a DataFrame.\n",
            "Try using .loc[row_indexer,col_indexer] = value instead\n",
            "\n",
            "See the caveats in the documentation: https://pandas.pydata.org/pandas-docs/stable/user_guide/indexing.html#returning-a-view-versus-a-copy\n",
            "  data['gender']=le.fit_transform(data['gender'])\n",
            "<ipython-input-8-64b75c752621>:3: SettingWithCopyWarning: \n",
            "A value is trying to be set on a copy of a slice from a DataFrame.\n",
            "Try using .loc[row_indexer,col_indexer] = value instead\n",
            "\n",
            "See the caveats in the documentation: https://pandas.pydata.org/pandas-docs/stable/user_guide/indexing.html#returning-a-view-versus-a-copy\n",
            "  data['ever_married']=le.fit_transform(data['ever_married'])\n",
            "<ipython-input-8-64b75c752621>:4: SettingWithCopyWarning: \n",
            "A value is trying to be set on a copy of a slice from a DataFrame.\n",
            "Try using .loc[row_indexer,col_indexer] = value instead\n",
            "\n",
            "See the caveats in the documentation: https://pandas.pydata.org/pandas-docs/stable/user_guide/indexing.html#returning-a-view-versus-a-copy\n",
            "  data['work_type']=le.fit_transform(data['work_type'])\n",
            "<ipython-input-8-64b75c752621>:5: SettingWithCopyWarning: \n",
            "A value is trying to be set on a copy of a slice from a DataFrame.\n",
            "Try using .loc[row_indexer,col_indexer] = value instead\n",
            "\n",
            "See the caveats in the documentation: https://pandas.pydata.org/pandas-docs/stable/user_guide/indexing.html#returning-a-view-versus-a-copy\n",
            "  data['Residence_type']=le.fit_transform(data['Residence_type'])\n",
            "<ipython-input-8-64b75c752621>:6: SettingWithCopyWarning: \n",
            "A value is trying to be set on a copy of a slice from a DataFrame.\n",
            "Try using .loc[row_indexer,col_indexer] = value instead\n",
            "\n",
            "See the caveats in the documentation: https://pandas.pydata.org/pandas-docs/stable/user_guide/indexing.html#returning-a-view-versus-a-copy\n",
            "  data['smoking_status']=le.fit_transform(data['smoking_status'])\n"
          ]
        },
        {
          "output_type": "execute_result",
          "data": {
            "text/plain": [
              "    gender   age  hypertension  heart_disease  ever_married  work_type  \\\n",
              "0        1  67.0             0              1             1          2   \n",
              "2        1  80.0             0              1             1          2   \n",
              "3        0  49.0             0              0             1          2   \n",
              "4        0  79.0             1              0             1          3   \n",
              "5        1  81.0             0              0             1          2   \n",
              "6        1  74.0             1              1             1          2   \n",
              "7        0  69.0             0              0             0          2   \n",
              "9        0  78.0             0              0             1          2   \n",
              "10       0  81.0             1              0             1          2   \n",
              "11       0  61.0             0              1             1          0   \n",
              "\n",
              "    Residence_type  avg_glucose_level   bmi  smoking_status  stroke  \n",
              "0                1             228.69  36.6               1       1  \n",
              "2                0             105.92  32.5               2       1  \n",
              "3                1             171.23  34.4               3       1  \n",
              "4                0             174.12  24.0               2       1  \n",
              "5                1             186.21  29.0               1       1  \n",
              "6                0              70.09  27.4               2       1  \n",
              "7                1              94.39  22.8               2       1  \n",
              "9                1              58.57  24.2               0       1  \n",
              "10               0              80.43  29.7               2       1  \n",
              "11               0             120.46  36.8               3       1  "
            ],
            "text/html": [
              "\n",
              "  <div id=\"df-00e9eaf6-8a99-4ca3-9bba-e1bd64b9290e\">\n",
              "    <div class=\"colab-df-container\">\n",
              "      <div>\n",
              "<style scoped>\n",
              "    .dataframe tbody tr th:only-of-type {\n",
              "        vertical-align: middle;\n",
              "    }\n",
              "\n",
              "    .dataframe tbody tr th {\n",
              "        vertical-align: top;\n",
              "    }\n",
              "\n",
              "    .dataframe thead th {\n",
              "        text-align: right;\n",
              "    }\n",
              "</style>\n",
              "<table border=\"1\" class=\"dataframe\">\n",
              "  <thead>\n",
              "    <tr style=\"text-align: right;\">\n",
              "      <th></th>\n",
              "      <th>gender</th>\n",
              "      <th>age</th>\n",
              "      <th>hypertension</th>\n",
              "      <th>heart_disease</th>\n",
              "      <th>ever_married</th>\n",
              "      <th>work_type</th>\n",
              "      <th>Residence_type</th>\n",
              "      <th>avg_glucose_level</th>\n",
              "      <th>bmi</th>\n",
              "      <th>smoking_status</th>\n",
              "      <th>stroke</th>\n",
              "    </tr>\n",
              "  </thead>\n",
              "  <tbody>\n",
              "    <tr>\n",
              "      <th>0</th>\n",
              "      <td>1</td>\n",
              "      <td>67.0</td>\n",
              "      <td>0</td>\n",
              "      <td>1</td>\n",
              "      <td>1</td>\n",
              "      <td>2</td>\n",
              "      <td>1</td>\n",
              "      <td>228.69</td>\n",
              "      <td>36.6</td>\n",
              "      <td>1</td>\n",
              "      <td>1</td>\n",
              "    </tr>\n",
              "    <tr>\n",
              "      <th>2</th>\n",
              "      <td>1</td>\n",
              "      <td>80.0</td>\n",
              "      <td>0</td>\n",
              "      <td>1</td>\n",
              "      <td>1</td>\n",
              "      <td>2</td>\n",
              "      <td>0</td>\n",
              "      <td>105.92</td>\n",
              "      <td>32.5</td>\n",
              "      <td>2</td>\n",
              "      <td>1</td>\n",
              "    </tr>\n",
              "    <tr>\n",
              "      <th>3</th>\n",
              "      <td>0</td>\n",
              "      <td>49.0</td>\n",
              "      <td>0</td>\n",
              "      <td>0</td>\n",
              "      <td>1</td>\n",
              "      <td>2</td>\n",
              "      <td>1</td>\n",
              "      <td>171.23</td>\n",
              "      <td>34.4</td>\n",
              "      <td>3</td>\n",
              "      <td>1</td>\n",
              "    </tr>\n",
              "    <tr>\n",
              "      <th>4</th>\n",
              "      <td>0</td>\n",
              "      <td>79.0</td>\n",
              "      <td>1</td>\n",
              "      <td>0</td>\n",
              "      <td>1</td>\n",
              "      <td>3</td>\n",
              "      <td>0</td>\n",
              "      <td>174.12</td>\n",
              "      <td>24.0</td>\n",
              "      <td>2</td>\n",
              "      <td>1</td>\n",
              "    </tr>\n",
              "    <tr>\n",
              "      <th>5</th>\n",
              "      <td>1</td>\n",
              "      <td>81.0</td>\n",
              "      <td>0</td>\n",
              "      <td>0</td>\n",
              "      <td>1</td>\n",
              "      <td>2</td>\n",
              "      <td>1</td>\n",
              "      <td>186.21</td>\n",
              "      <td>29.0</td>\n",
              "      <td>1</td>\n",
              "      <td>1</td>\n",
              "    </tr>\n",
              "    <tr>\n",
              "      <th>6</th>\n",
              "      <td>1</td>\n",
              "      <td>74.0</td>\n",
              "      <td>1</td>\n",
              "      <td>1</td>\n",
              "      <td>1</td>\n",
              "      <td>2</td>\n",
              "      <td>0</td>\n",
              "      <td>70.09</td>\n",
              "      <td>27.4</td>\n",
              "      <td>2</td>\n",
              "      <td>1</td>\n",
              "    </tr>\n",
              "    <tr>\n",
              "      <th>7</th>\n",
              "      <td>0</td>\n",
              "      <td>69.0</td>\n",
              "      <td>0</td>\n",
              "      <td>0</td>\n",
              "      <td>0</td>\n",
              "      <td>2</td>\n",
              "      <td>1</td>\n",
              "      <td>94.39</td>\n",
              "      <td>22.8</td>\n",
              "      <td>2</td>\n",
              "      <td>1</td>\n",
              "    </tr>\n",
              "    <tr>\n",
              "      <th>9</th>\n",
              "      <td>0</td>\n",
              "      <td>78.0</td>\n",
              "      <td>0</td>\n",
              "      <td>0</td>\n",
              "      <td>1</td>\n",
              "      <td>2</td>\n",
              "      <td>1</td>\n",
              "      <td>58.57</td>\n",
              "      <td>24.2</td>\n",
              "      <td>0</td>\n",
              "      <td>1</td>\n",
              "    </tr>\n",
              "    <tr>\n",
              "      <th>10</th>\n",
              "      <td>0</td>\n",
              "      <td>81.0</td>\n",
              "      <td>1</td>\n",
              "      <td>0</td>\n",
              "      <td>1</td>\n",
              "      <td>2</td>\n",
              "      <td>0</td>\n",
              "      <td>80.43</td>\n",
              "      <td>29.7</td>\n",
              "      <td>2</td>\n",
              "      <td>1</td>\n",
              "    </tr>\n",
              "    <tr>\n",
              "      <th>11</th>\n",
              "      <td>0</td>\n",
              "      <td>61.0</td>\n",
              "      <td>0</td>\n",
              "      <td>1</td>\n",
              "      <td>1</td>\n",
              "      <td>0</td>\n",
              "      <td>0</td>\n",
              "      <td>120.46</td>\n",
              "      <td>36.8</td>\n",
              "      <td>3</td>\n",
              "      <td>1</td>\n",
              "    </tr>\n",
              "  </tbody>\n",
              "</table>\n",
              "</div>\n",
              "      <button class=\"colab-df-convert\" onclick=\"convertToInteractive('df-00e9eaf6-8a99-4ca3-9bba-e1bd64b9290e')\"\n",
              "              title=\"Convert this dataframe to an interactive table.\"\n",
              "              style=\"display:none;\">\n",
              "        \n",
              "  <svg xmlns=\"http://www.w3.org/2000/svg\" height=\"24px\"viewBox=\"0 0 24 24\"\n",
              "       width=\"24px\">\n",
              "    <path d=\"M0 0h24v24H0V0z\" fill=\"none\"/>\n",
              "    <path d=\"M18.56 5.44l.94 2.06.94-2.06 2.06-.94-2.06-.94-.94-2.06-.94 2.06-2.06.94zm-11 1L8.5 8.5l.94-2.06 2.06-.94-2.06-.94L8.5 2.5l-.94 2.06-2.06.94zm10 10l.94 2.06.94-2.06 2.06-.94-2.06-.94-.94-2.06-.94 2.06-2.06.94z\"/><path d=\"M17.41 7.96l-1.37-1.37c-.4-.4-.92-.59-1.43-.59-.52 0-1.04.2-1.43.59L10.3 9.45l-7.72 7.72c-.78.78-.78 2.05 0 2.83L4 21.41c.39.39.9.59 1.41.59.51 0 1.02-.2 1.41-.59l7.78-7.78 2.81-2.81c.8-.78.8-2.07 0-2.86zM5.41 20L4 18.59l7.72-7.72 1.47 1.35L5.41 20z\"/>\n",
              "  </svg>\n",
              "      </button>\n",
              "      \n",
              "  <style>\n",
              "    .colab-df-container {\n",
              "      display:flex;\n",
              "      flex-wrap:wrap;\n",
              "      gap: 12px;\n",
              "    }\n",
              "\n",
              "    .colab-df-convert {\n",
              "      background-color: #E8F0FE;\n",
              "      border: none;\n",
              "      border-radius: 50%;\n",
              "      cursor: pointer;\n",
              "      display: none;\n",
              "      fill: #1967D2;\n",
              "      height: 32px;\n",
              "      padding: 0 0 0 0;\n",
              "      width: 32px;\n",
              "    }\n",
              "\n",
              "    .colab-df-convert:hover {\n",
              "      background-color: #E2EBFA;\n",
              "      box-shadow: 0px 1px 2px rgba(60, 64, 67, 0.3), 0px 1px 3px 1px rgba(60, 64, 67, 0.15);\n",
              "      fill: #174EA6;\n",
              "    }\n",
              "\n",
              "    [theme=dark] .colab-df-convert {\n",
              "      background-color: #3B4455;\n",
              "      fill: #D2E3FC;\n",
              "    }\n",
              "\n",
              "    [theme=dark] .colab-df-convert:hover {\n",
              "      background-color: #434B5C;\n",
              "      box-shadow: 0px 1px 3px 1px rgba(0, 0, 0, 0.15);\n",
              "      filter: drop-shadow(0px 1px 2px rgba(0, 0, 0, 0.3));\n",
              "      fill: #FFFFFF;\n",
              "    }\n",
              "  </style>\n",
              "\n",
              "      <script>\n",
              "        const buttonEl =\n",
              "          document.querySelector('#df-00e9eaf6-8a99-4ca3-9bba-e1bd64b9290e button.colab-df-convert');\n",
              "        buttonEl.style.display =\n",
              "          google.colab.kernel.accessAllowed ? 'block' : 'none';\n",
              "\n",
              "        async function convertToInteractive(key) {\n",
              "          const element = document.querySelector('#df-00e9eaf6-8a99-4ca3-9bba-e1bd64b9290e');\n",
              "          const dataTable =\n",
              "            await google.colab.kernel.invokeFunction('convertToInteractive',\n",
              "                                                     [key], {});\n",
              "          if (!dataTable) return;\n",
              "\n",
              "          const docLinkHtml = 'Like what you see? Visit the ' +\n",
              "            '<a target=\"_blank\" href=https://colab.research.google.com/notebooks/data_table.ipynb>data table notebook</a>'\n",
              "            + ' to learn more about interactive tables.';\n",
              "          element.innerHTML = '';\n",
              "          dataTable['output_type'] = 'display_data';\n",
              "          await google.colab.output.renderOutput(dataTable, element);\n",
              "          const docLink = document.createElement('div');\n",
              "          docLink.innerHTML = docLinkHtml;\n",
              "          element.appendChild(docLink);\n",
              "        }\n",
              "      </script>\n",
              "    </div>\n",
              "  </div>\n",
              "  "
            ]
          },
          "metadata": {},
          "execution_count": 8
        }
      ]
    },
    {
      "cell_type": "code",
      "source": [
        "x = data.drop(columns=\"stroke\") #Features\n",
        "\n",
        "y = data[\"stroke\"] #target"
      ],
      "metadata": {
        "id": "k7AhN38SEJvu"
      },
      "execution_count": 9,
      "outputs": []
    },
    {
      "cell_type": "code",
      "source": [
        "X_train, X_test, y_train, y_test = train_test_split(x, y, test_size=0.2, random_state=0) #we use to split up 20% of the data in to the test set and 80% for training."
      ],
      "metadata": {
        "id": "RQ-QXColENcd"
      },
      "execution_count": 10,
      "outputs": []
    },
    {
      "cell_type": "markdown",
      "source": [
        "# **1-Decision tree**"
      ],
      "metadata": {
        "id": "aTtNsiTaFWhh"
      }
    },
    {
      "cell_type": "code",
      "source": [
        "\n",
        "clf = DecisionTreeClassifier(criterion=\"entropy\")\n",
        "#max_depth\n",
        "#criterion{“gini”, “entropy”}, default=”gini”\n",
        "clf.fit(X_train, y_train)\n",
        "y_pred = clf.predict(X_train)\n",
        "print('Training Accuracy: {}'.format(accuracy_score(y_train, y_pred)))"
      ],
      "metadata": {
        "colab": {
          "base_uri": "https://localhost:8080/"
        },
        "id": "1xaYH-sAEWh_",
        "outputId": "a1a4ae90-4f71-4d52-a9ad-0f670dcb4a20"
      },
      "execution_count": 11,
      "outputs": [
        {
          "output_type": "stream",
          "name": "stdout",
          "text": [
            "Training Accuracy: 1.0\n"
          ]
        }
      ]
    },
    {
      "cell_type": "code",
      "source": [
        "\n",
        "y_pred = clf.predict(X_test)\n",
        "print('Testing Accuracy: {}'.format(accuracy_score(y_test,y_pred)))\n",
        "print (\"precision score: {}\".format(precision_score(y_test, y_pred)))\n",
        "print (\"recall score: {}\".format(recall_score(y_test, y_pred)))\n",
        "print (\"F 1 score: {}\".format(f1_score(y_test, y_pred)))\n",
        "\n"
      ],
      "metadata": {
        "colab": {
          "base_uri": "https://localhost:8080/"
        },
        "id": "k0Bo7dEYEZMd",
        "outputId": "e0e76757-c61c-4684-d166-b44a0d538e17"
      },
      "execution_count": 12,
      "outputs": [
        {
          "output_type": "stream",
          "name": "stdout",
          "text": [
            "Testing Accuracy: 0.9307535641547862\n",
            "precision score: 0.23404255319148937\n",
            "recall score: 0.2558139534883721\n",
            "F 1 score: 0.24444444444444444\n"
          ]
        }
      ]
    },
    {
      "cell_type": "markdown",
      "source": [
        "# **(k-fold cross validation / DT)**"
      ],
      "metadata": {
        "id": "FdNK3fi8F3oT"
      }
    },
    {
      "cell_type": "code",
      "source": [
        "print('-----Accuracy testing after cross-validation----')\n",
        "scores = cross_val_score(clf, X_test, y_test, cv=5, scoring=\"accuracy\")\n",
        "print(scores)\n",
        "meanScore = scores.mean()\n",
        "print('mean scoore for testing accuracy:\\n:', meanScore)\n",
        "\n",
        "###\n",
        "print('\\n-----Accuracy training afyer cross-validation-----')\n",
        "scores0 = cross_val_score(clf, X_train, y_train, cv=5, scoring=\"accuracy\")\n",
        "print(scores0)\n",
        "meanScore0 = scores0.mean()\n",
        "print('mean scoore for testing accuracy:\\n:', meanScore0)\n",
        "\n",
        "###\n",
        "print('\\n-----precision score:after cross validation------')\n",
        "scores1 = cross_val_score(clf, x, y, cv=5, scoring=\"precision\")\n",
        "print(scores1)\n",
        "meanScore1 = scores1.mean()\n",
        "print('mean scoore for precision\\n:', meanScore1)\n",
        "\n",
        "###\n",
        "print('\\n-----recall score :after cross validation------')\n",
        "scores2 = cross_val_score(clf, x, y, cv=5, scoring=\"recall\")\n",
        "print(scores2)\n",
        "meanScore2 = scores0.mean()\n",
        "print('mean scoore for testing accuracy:\\n:', meanScore2)\n",
        "\n",
        "###\n",
        "print('\\n-----f1 score: after cross validation------')\n",
        "scores3 = cross_val_score(clf, x, y, cv=5, scoring=\"f1\")\n",
        "print(scores3)\n",
        "meanScore3 = scores0.mean()\n",
        "print('mean scoore for testing accuracy:\\n:', meanScore3)\n"
      ],
      "metadata": {
        "colab": {
          "base_uri": "https://localhost:8080/"
        },
        "id": "BUm6C0mwFzvE",
        "outputId": "d7173ca0-241f-4e7c-a8a4-0dbce5befc99"
      },
      "execution_count": 13,
      "outputs": [
        {
          "output_type": "stream",
          "name": "stdout",
          "text": [
            "-----Accuracy testing after cross-validation----\n",
            "[0.91370558 0.9035533  0.95408163 0.90306122 0.93877551]\n",
            "mean scoore for testing accuracy:\n",
            ": 0.9226354501191338\n",
            "\n",
            "-----Accuracy training afyer cross-validation-----\n",
            "[0.91984733 0.92620865 0.91847134 0.91592357 0.92866242]\n",
            "mean scoore for testing accuracy:\n",
            ": 0.9218226608969061\n",
            "\n",
            "-----precision score:after cross validation------\n",
            "[0.10204082 0.09615385 0.1372549  0.22727273 0.09302326]\n",
            "mean scoore for precision\n",
            ": 0.13114910950556835\n",
            "\n",
            "-----recall score :after cross validation------\n",
            "[0.0952381  0.16666667 0.14285714 0.23809524 0.07317073]\n",
            "mean scoore for testing accuracy:\n",
            ": 0.9218226608969061\n",
            "\n",
            "-----f1 score: after cross validation------\n",
            "[0.10989011 0.14285714 0.16494845 0.22222222 0.05263158]\n",
            "mean scoore for testing accuracy:\n",
            ": 0.9218226608969061\n"
          ]
        }
      ]
    },
    {
      "cell_type": "markdown",
      "source": [
        "# **(Confiusion matrix / DT)`**"
      ],
      "metadata": {
        "id": "C4Y46AQGKeB7"
      }
    },
    {
      "cell_type": "code",
      "source": [
        "confusion = confusion_matrix(y_test, y_pred)\n",
        "print('Confusion Matrix\\n')\n",
        "print(confusion)"
      ],
      "metadata": {
        "colab": {
          "base_uri": "https://localhost:8080/"
        },
        "id": "tW048pdOKRWW",
        "outputId": "1a3f24a3-0ef0-417f-a388-1836acf26db0"
      },
      "execution_count": 14,
      "outputs": [
        {
          "output_type": "stream",
          "name": "stdout",
          "text": [
            "Confusion Matrix\n",
            "\n",
            "[[903  36]\n",
            " [ 32  11]]\n"
          ]
        }
      ]
    },
    {
      "cell_type": "code",
      "source": [
        "cm = confusion_matrix(y_test, y_pred, labels=np.unique(y_test))\n",
        "disp = ConfusionMatrixDisplay(confusion_matrix=cm,display_labels=np.unique(y_test))\n",
        "disp.plot()"
      ],
      "metadata": {
        "colab": {
          "base_uri": "https://localhost:8080/",
          "height": 301
        },
        "id": "fyL3ouajKTcG",
        "outputId": "12435547-f77e-4073-cf7e-9a0c7ecc70f9"
      },
      "execution_count": 15,
      "outputs": [
        {
          "output_type": "execute_result",
          "data": {
            "text/plain": [
              "<sklearn.metrics._plot.confusion_matrix.ConfusionMatrixDisplay at 0x7ffb0e319460>"
            ]
          },
          "metadata": {},
          "execution_count": 15
        },
        {
          "output_type": "display_data",
          "data": {
            "text/plain": [
              "<Figure size 432x288 with 2 Axes>"
            ],
            "image/png": "[encoded data removed]"
          },
          "metadata": {
            "needs_background": "light"
          }
        }
      ]
    },
    {
      "cell_type": "markdown",
      "source": [
        "# **Extra: Drawing the Decision tree** "
      ],
      "metadata": {
        "id": "l-m0qUuLK29x"
      }
    },
    {
      "cell_type": "code",
      "source": [
        "fig = plt.figure(figsize=(25,20))\n",
        "tree.plot_tree(clf,filled=True)\n",
        "plt.show()"
      ],
      "metadata": {
        "colab": {
          "base_uri": "https://localhost:8080/",
          "height": 1000
        },
        "id": "nFXBoeA4K1WZ",
        "outputId": "d41df8db-4c8a-4de8-fb3d-8c6b41232137"
      },
      "execution_count": 16,
      "outputs": [
        {
          "output_type": "display_data",
          "data": {
            "text/plain": [
              "<Figure size 1800x1440 with 1 Axes>"
            ],
            "image/png": "[encoded data removed]"
          },
          "metadata": {
            "needs_background": "light"
          }
        }
      ]
    },
    {
      "cell_type": "markdown",
      "source": [
        "# **2- Random Forest**"
      ],
      "metadata": {
        "id": "aVUaB8TfLZKs"
      }
    },
    {
      "cell_type": "code",
      "source": [
        "clf2 = RandomForestClassifier(n_estimators=8, random_state=0)\n",
        "#n_estimators int, default=100 The number of trees in the forest.\n",
        "clf2.fit(X_train, y_train)\n",
        "y_pred = clf2.predict(X_train)\n",
        "print('Training Accuracy: {}'.format(accuracy_score(y_train, y_pred)))\n",
        "\n"
      ],
      "metadata": {
        "colab": {
          "base_uri": "https://localhost:8080/"
        },
        "id": "4y1UDqmALkeK",
        "outputId": "f5b0e21b-9316-44ac-bd42-f3f583ec2fef"
      },
      "execution_count": 17,
      "outputs": [
        {
          "output_type": "stream",
          "name": "stdout",
          "text": [
            "Training Accuracy: 0.9893048128342246\n"
          ]
        }
      ]
    },
    {
      "cell_type": "code",
      "source": [
        "\n",
        "y_pred = clf2.predict(X_test)\n",
        "print('Testing Accuracy: {}'.format(accuracy_score(y_test,y_pred)))\n",
        "print (\"precision score: {}\".format(precision_score(y_test, y_pred)))\n",
        "print (\"recall score: {}\".format(recall_score(y_test, y_pred)))\n",
        "print (\"F 1 score: {}\".format(f1_score(y_test, y_pred)))\n",
        "\n"
      ],
      "metadata": {
        "colab": {
          "base_uri": "https://localhost:8080/"
        },
        "id": "yuNH2TfsLyCT",
        "outputId": "72f39695-2a37-4743-dd52-9d8d7075c61b"
      },
      "execution_count": 18,
      "outputs": [
        {
          "output_type": "stream",
          "name": "stdout",
          "text": [
            "Testing Accuracy: 0.9531568228105907\n",
            "precision score: 0.0\n",
            "recall score: 0.0\n",
            "F 1 score: 0.0\n"
          ]
        }
      ]
    },
    {
      "cell_type": "markdown",
      "source": [
        "# **(k-fold cross validation / Random forest)**\n",
        "\n",
        "\n",
        "\n"
      ],
      "metadata": {
        "id": "36Aas8P8PtSa"
      }
    },
    {
      "cell_type": "code",
      "source": [
        "print('-----Accuracy testing after cross-validation----')\n",
        "scores = cross_val_score(clf2, X_test, y_test, cv=5, scoring=\"accuracy\")\n",
        "print(scores)\n",
        "meanScore = scores.mean()\n",
        "print('mean scoore for testing accuracy:\\n:', meanScore)\n",
        "\n",
        "###\n",
        "print('\\n-----Accuracy training afyer cross-validation-----')\n",
        "scores0 = cross_val_score(clf2, X_train, y_train, cv=5, scoring=\"accuracy\")\n",
        "print(scores0)\n",
        "meanScore0 = scores0.mean()\n",
        "print('mean scoore for testing accuracy:\\n:', meanScore0)\n",
        "\n",
        "###\n",
        "print('\\n-----precision score:after cross validation------')\n",
        "scores1 = cross_val_score(clf2, x, y, cv=5, scoring=\"precision\")\n",
        "print(scores1)\n",
        "meanScore1 = scores1.mean()\n",
        "print('mean scoore for precision\\n:', meanScore1)\n",
        "\n",
        "###\n",
        "print('\\n-----recall score :after cross validation------')\n",
        "scores2 = cross_val_score(clf2, x, y, cv=5, scoring=\"recall\")\n",
        "print(scores2)\n",
        "meanScore2 = scores0.mean()\n",
        "print('mean scoore for testing accuracy:\\n:', meanScore2)\n",
        "\n",
        "###\n",
        "print('\\n-----f1 score: after cross validation------')\n",
        "scores3 = cross_val_score(clf2, x, y, cv=5, scoring=\"f1\")\n",
        "print(scores3)\n",
        "meanScore3 = scores0.mean()\n",
        "print('mean scoore for testing accuracy:\\n:', meanScore3)\n"
      ],
      "metadata": {
        "colab": {
          "base_uri": "https://localhost:8080/"
        },
        "id": "irrXwbotP1qJ",
        "outputId": "ca4ddfe0-d255-4dc9-bf6c-702823ea2959"
      },
      "execution_count": 19,
      "outputs": [
        {
          "output_type": "stream",
          "name": "stdout",
          "text": [
            "-----Accuracy testing after cross-validation----\n",
            "[0.94923858 0.95431472 0.95918367 0.95918367 0.94897959]\n",
            "mean scoore for testing accuracy:\n",
            ": 0.9541800476535791\n",
            "\n",
            "-----Accuracy training afyer cross-validation-----\n",
            "[0.95419847 0.95165394 0.95286624 0.9566879  0.9566879 ]\n",
            "mean scoore for testing accuracy:\n",
            ": 0.9544188911038718\n",
            "\n",
            "-----precision score:after cross validation------\n",
            "[0.         0.         0.         0.28571429 0.        ]\n",
            "mean scoore for precision\n",
            ": 0.05714285714285714\n",
            "\n",
            "-----recall score :after cross validation------\n",
            "[0.         0.         0.         0.04761905 0.        ]\n",
            "mean scoore for testing accuracy:\n",
            ": 0.9544188911038718\n",
            "\n",
            "-----f1 score: after cross validation------\n",
            "[0.         0.         0.         0.08163265 0.        ]\n",
            "mean scoore for testing accuracy:\n",
            ": 0.9544188911038718\n"
          ]
        }
      ]
    },
    {
      "cell_type": "markdown",
      "source": [
        "# **(Confiusion matrix / Random forest)**\n",
        "\n",
        "\n"
      ],
      "metadata": {
        "id": "T0_py_2yMmwK"
      }
    },
    {
      "cell_type": "code",
      "source": [
        "confusion = confusion_matrix(y_test, y_pred)\n",
        "print('Confusion Matrix\\n')\n",
        "print(confusion)"
      ],
      "metadata": {
        "id": "mpBV7njlMbvM",
        "colab": {
          "base_uri": "https://localhost:8080/"
        },
        "outputId": "3ac288f6-44fa-4803-b43b-732649e5fe8e"
      },
      "execution_count": 20,
      "outputs": [
        {
          "output_type": "stream",
          "name": "stdout",
          "text": [
            "Confusion Matrix\n",
            "\n",
            "[[936   3]\n",
            " [ 43   0]]\n"
          ]
        }
      ]
    },
    {
      "cell_type": "code",
      "source": [
        "cm = confusion_matrix(y_test, y_pred, labels=np.unique(y_test))\n",
        "disp = ConfusionMatrixDisplay(confusion_matrix=cm,display_labels=np.unique(y_test))\n",
        "disp.plot()"
      ],
      "metadata": {
        "id": "LnRkIc2sM4rY",
        "colab": {
          "base_uri": "https://localhost:8080/",
          "height": 297
        },
        "outputId": "24aa448d-1602-4a78-992f-8344d2c8ad63"
      },
      "execution_count": 21,
      "outputs": [
        {
          "output_type": "execute_result",
          "data": {
            "text/plain": [
              "<sklearn.metrics._plot.confusion_matrix.ConfusionMatrixDisplay at 0x7ffb0b68a4f0>"
            ]
          },
          "metadata": {},
          "execution_count": 21
        },
        {
          "output_type": "display_data",
          "data": {
            "text/plain": [
              "<Figure size 432x288 with 2 Axes>"
            ],
            "image/png": "[encoded data removed]"
          },
          "metadata": {
            "needs_background": "light"
          }
        }
      ]
    },
    {
      "cell_type": "markdown",
      "source": [
        "# **3- naive bayes (NB)**"
      ],
      "metadata": {
        "id": "wAln0Y99M_yT"
      }
    },
    {
      "cell_type": "code",
      "source": [
        "clf3 = GaussianNB()\n",
        "clf3.fit(X_train, y_train)\n",
        "y_pred = clf2.predict(X_train)\n",
        "print('Training Accuracy: {}'.format(accuracy_score(y_train, y_pred)))"
      ],
      "metadata": {
        "id": "PpkV48rBNSUu",
        "colab": {
          "base_uri": "https://localhost:8080/"
        },
        "outputId": "0812338e-ac3b-4a27-c897-7e4e688cfe29"
      },
      "execution_count": 22,
      "outputs": [
        {
          "output_type": "stream",
          "name": "stdout",
          "text": [
            "Training Accuracy: 0.9893048128342246\n"
          ]
        }
      ]
    },
    {
      "cell_type": "code",
      "source": [
        "y_pred = clf3.predict(X_test)\n",
        "print('Testing Accuracy: {}'.format(accuracy_score(y_test,y_pred)))\n",
        "print (\"precision score: {}\".format(precision_score(y_test, y_pred)))\n",
        "print (\"recall score: {}\".format(recall_score(y_test, y_pred)))\n",
        "print (\"F 1 score: {}\".format(f1_score(y_test, y_pred)))\n"
      ],
      "metadata": {
        "id": "NoF6TJq5Neju",
        "colab": {
          "base_uri": "https://localhost:8080/"
        },
        "outputId": "61b015f3-8310-46c3-f0f5-813edc3e44dd"
      },
      "execution_count": 23,
      "outputs": [
        {
          "output_type": "stream",
          "name": "stdout",
          "text": [
            "Testing Accuracy: 0.8645621181262729\n",
            "precision score: 0.1590909090909091\n",
            "recall score: 0.4883720930232558\n",
            "F 1 score: 0.24\n"
          ]
        }
      ]
    },
    {
      "cell_type": "markdown",
      "source": [
        "# **(k-fold cross validation / NB)**"
      ],
      "metadata": {
        "id": "FgeCYXdhNnHl"
      }
    },
    {
      "cell_type": "code",
      "source": [
        "print('-----Accuracy testing after cross-validation----')\n",
        "scores = cross_val_score(clf, X_test, y_test, cv=5, scoring=\"accuracy\")\n",
        "print(scores)\n",
        "meanScore = scores.mean()\n",
        "print('mean scoore for testing accuracy:\\n:', meanScore)\n",
        "\n",
        "###\n",
        "print('\\n-----Accuracy training afyer cross-validation-----')\n",
        "scores0 = cross_val_score(clf3, X_train, y_train, cv=5, scoring=\"accuracy\")\n",
        "print(scores0)\n",
        "meanScore0 = scores0.mean()\n",
        "print('mean scoore for testing accuracy:\\n:', meanScore0)\n",
        "\n",
        "###\n",
        "print('\\n-----precision score:after cross validation------')\n",
        "scores1 = cross_val_score(clf3, x, y, cv=5, scoring=\"precision\")\n",
        "print(scores1)\n",
        "meanScore1 = scores1.mean()\n",
        "print('mean scoore for precision\\n:', meanScore1)\n",
        "\n",
        "###\n",
        "print('\\n-----recall score :after cross validation------')\n",
        "scores2 = cross_val_score(clf3, x, y, cv=5, scoring=\"recall\")\n",
        "print(scores2)\n",
        "meanScore2 = scores0.mean()\n",
        "print('mean scoore for testing accuracy:\\n:', meanScore2)\n",
        "\n",
        "###\n",
        "print('\\n-----f1 score: after cross validation------')\n",
        "scores3 = cross_val_score(clf3, x, y, cv=5, scoring=\"f1\")\n",
        "print(scores3)\n",
        "meanScore3 = scores0.mean()\n",
        "print('mean scoore for testing accuracy:\\n:', meanScore3)\n"
      ],
      "metadata": {
        "id": "TlZne2OeNwzh",
        "colab": {
          "base_uri": "https://localhost:8080/"
        },
        "outputId": "33469a3e-c5e5-473a-ebec-0b55e470ad85"
      },
      "execution_count": 24,
      "outputs": [
        {
          "output_type": "stream",
          "name": "stdout",
          "text": [
            "-----Accuracy testing after cross-validation----\n",
            "[0.91370558 0.89847716 0.93877551 0.89795918 0.93367347]\n",
            "mean scoore for testing accuracy:\n",
            ": 0.9165181808764113\n",
            "\n",
            "-----Accuracy training afyer cross-validation-----\n",
            "[0.86386768 0.87913486 0.87006369 0.85605096 0.88535032]\n",
            "mean scoore for testing accuracy:\n",
            ": 0.8708935025364255\n",
            "\n",
            "-----precision score:after cross validation------\n",
            "[0.17424242 0.1640625  0.14285714 0.11666667 0.11827957]\n",
            "mean scoore for precision\n",
            ": 0.1432216607317414\n",
            "\n",
            "-----recall score :after cross validation------\n",
            "[0.54761905 0.5        0.4047619  0.33333333 0.26829268]\n",
            "mean scoore for testing accuracy:\n",
            ": 0.8708935025364255\n",
            "\n",
            "-----f1 score: after cross validation------\n",
            "[0.26436782 0.24705882 0.21118012 0.17283951 0.1641791 ]\n",
            "mean scoore for testing accuracy:\n",
            ": 0.8708935025364255\n"
          ]
        }
      ]
    },
    {
      "cell_type": "markdown",
      "source": [
        "# **(Confiusion matrix / NB)**\n"
      ],
      "metadata": {
        "id": "6YykSbglOmyz"
      }
    },
    {
      "cell_type": "code",
      "source": [
        "confusion = confusion_matrix(y_test, y_pred)\n",
        "print('Confusion Matrix\\n')\n",
        "print(confusion)"
      ],
      "metadata": {
        "id": "bRiL-H1hOtW8",
        "colab": {
          "base_uri": "https://localhost:8080/"
        },
        "outputId": "41b2f251-1539-4b8f-f2c0-fbe7d8068a09"
      },
      "execution_count": 25,
      "outputs": [
        {
          "output_type": "stream",
          "name": "stdout",
          "text": [
            "Confusion Matrix\n",
            "\n",
            "[[828 111]\n",
            " [ 22  21]]\n"
          ]
        }
      ]
    },
    {
      "cell_type": "code",
      "source": [
        "cm = confusion_matrix(y_test, y_pred, labels=np.unique(y_test))\n",
        "disp = ConfusionMatrixDisplay(confusion_matrix=cm,display_labels=np.unique(y_test))\n",
        "disp.plot()"
      ],
      "metadata": {
        "id": "CTFMBl_WOwlv",
        "colab": {
          "base_uri": "https://localhost:8080/",
          "height": 297
        },
        "outputId": "33ec33c8-e8be-415e-ba03-29addf009b3b"
      },
      "execution_count": 26,
      "outputs": [
        {
          "output_type": "execute_result",
          "data": {
            "text/plain": [
              "<sklearn.metrics._plot.confusion_matrix.ConfusionMatrixDisplay at 0x7ffb0e32fb80>"
            ]
          },
          "metadata": {},
          "execution_count": 26
        },
        {
          "output_type": "display_data",
          "data": {
            "text/plain": [
              "<Figure size 432x288 with 2 Axes>"
            ],
            "image/png": "[encoded data removed]"
          },
          "metadata": {
            "needs_background": "light"
          }
        }
      ]
    },
    {
      "cell_type": "markdown",
      "source": [
        "4-"
      ],
      "metadata": {
        "id": "mrBlWbisO2ek"
      }
    },
    {
      "cell_type": "code",
      "source": [
        "clf4= Perceptron()\n",
        "\n",
        "clf4.fit(X_train, y_train)\n",
        "y_pred = clf.predict(X_train)\n",
        "print('Training Accuracy: {}'.format(accuracy_score(y_train, y_pred)))"
      ],
      "metadata": {
        "id": "HlywYcqTPCGC",
        "colab": {
          "base_uri": "https://localhost:8080/"
        },
        "outputId": "13563b5f-532f-4b49-d405-35dda60280cb"
      },
      "execution_count": 27,
      "outputs": [
        {
          "output_type": "stream",
          "name": "stdout",
          "text": [
            "Training Accuracy: 1.0\n"
          ]
        }
      ]
    },
    {
      "cell_type": "code",
      "source": [
        "\n",
        "y_pred = clf4.predict(X_test)\n",
        "print('Testing Accuracy: {}'.format(accuracy_score(y_test,y_pred)))\n",
        "print (\"precision score: {}\".format(precision_score(y_test, y_pred)))\n",
        "print (\"recall score: {}\".format(recall_score(y_test, y_pred)))\n",
        "print (\"F 1 score: {}\".format(f1_score(y_test, y_pred)))\n",
        "\n"
      ],
      "metadata": {
        "id": "hBqxCbNUPOHe",
        "colab": {
          "base_uri": "https://localhost:8080/"
        },
        "outputId": "41eaadc2-2392-4d45-bd20-70fabaf443aa"
      },
      "execution_count": 28,
      "outputs": [
        {
          "output_type": "stream",
          "name": "stdout",
          "text": [
            "Testing Accuracy: 0.9541751527494908\n",
            "precision score: 0.0\n",
            "recall score: 0.0\n",
            "F 1 score: 0.0\n"
          ]
        }
      ]
    },
    {
      "cell_type": "markdown",
      "source": [
        "# **(k-fold cross validation / Perceptron)**\n"
      ],
      "metadata": {
        "id": "HLLz6NP0PBW6"
      }
    },
    {
      "cell_type": "code",
      "source": [
        "print('-----Accuracy testing after cross-validation----')\n",
        "scores = cross_val_score(clf, X_test, y_test, cv=5, scoring=\"accuracy\")\n",
        "print(scores)\n",
        "meanScore = scores.mean()\n",
        "print('mean scoore for testing accuracy:\\n:', meanScore)\n",
        "\n",
        "###\n",
        "print('\\n-----Accuracy training afyer cross-validation-----')\n",
        "scores0 = cross_val_score(clf4, X_train, y_train, cv=5, scoring=\"accuracy\")\n",
        "print(scores0)\n",
        "meanScore0 = scores0.mean()\n",
        "print('mean scoore for testing accuracy:\\n:', meanScore0)\n",
        "\n",
        "###\n",
        "print('\\n-----precision score:after cross validation------')\n",
        "scores1 = cross_val_score(clf4, x, y, cv=5, scoring=\"precision\")\n",
        "print(scores1)\n",
        "meanScore1 = scores1.mean()\n",
        "print('mean scoore for precision\\n:', meanScore1)\n",
        "\n",
        "###\n",
        "print('\\n-----recall score :after cross validation------')\n",
        "scores2 = cross_val_score(clf4, x, y, cv=5, scoring=\"recall\")\n",
        "print(scores2)\n",
        "meanScore2 = scores0.mean()\n",
        "print('mean scoore for testing accuracy:\\n:', meanScore2)\n",
        "\n",
        "###\n",
        "print('\\n-----f1 score: after cross validation------')\n",
        "scores3 = cross_val_score(clf4, x, y, cv=5, scoring=\"f1\")\n",
        "print(scores3)\n",
        "meanScore3 = scores0.mean()\n",
        "print('mean scoore for testing accuracy:\\n:', meanScore3)\n"
      ],
      "metadata": {
        "id": "yL_30a8XP9va",
        "colab": {
          "base_uri": "https://localhost:8080/"
        },
        "outputId": "0563386b-845d-4d52-8fb4-0f56627f488a"
      },
      "execution_count": 29,
      "outputs": [
        {
          "output_type": "stream",
          "name": "stdout",
          "text": [
            "-----Accuracy testing after cross-validation----\n",
            "[0.91370558 0.9035533  0.93367347 0.89795918 0.93877551]\n",
            "mean scoore for testing accuracy:\n",
            ": 0.9175334093028074\n",
            "\n",
            "-----Accuracy training afyer cross-validation-----\n",
            "[0.95801527 0.956743   0.95796178 0.95796178 0.94904459]\n",
            "mean scoore for testing accuracy:\n",
            ": 0.9559452845172688\n",
            "\n",
            "-----precision score:after cross validation------\n"
          ]
        },
        {
          "output_type": "stream",
          "name": "stderr",
          "text": [
            "/usr/local/lib/python3.8/dist-packages/sklearn/metrics/_classification.py:1344: UndefinedMetricWarning: Precision is ill-defined and being set to 0.0 due to no predicted samples. Use `zero_division` parameter to control this behavior.\n",
            "  _warn_prf(average, modifier, msg_start, len(result))\n",
            "/usr/local/lib/python3.8/dist-packages/sklearn/metrics/_classification.py:1344: UndefinedMetricWarning: Precision is ill-defined and being set to 0.0 due to no predicted samples. Use `zero_division` parameter to control this behavior.\n",
            "  _warn_prf(average, modifier, msg_start, len(result))\n",
            "/usr/local/lib/python3.8/dist-packages/sklearn/metrics/_classification.py:1344: UndefinedMetricWarning: Precision is ill-defined and being set to 0.0 due to no predicted samples. Use `zero_division` parameter to control this behavior.\n",
            "  _warn_prf(average, modifier, msg_start, len(result))\n",
            "/usr/local/lib/python3.8/dist-packages/sklearn/metrics/_classification.py:1344: UndefinedMetricWarning: Precision is ill-defined and being set to 0.0 due to no predicted samples. Use `zero_division` parameter to control this behavior.\n",
            "  _warn_prf(average, modifier, msg_start, len(result))\n",
            "/usr/local/lib/python3.8/dist-packages/sklearn/metrics/_classification.py:1344: UndefinedMetricWarning: Precision is ill-defined and being set to 0.0 due to no predicted samples. Use `zero_division` parameter to control this behavior.\n",
            "  _warn_prf(average, modifier, msg_start, len(result))\n"
          ]
        },
        {
          "output_type": "stream",
          "name": "stdout",
          "text": [
            "[0. 0. 0. 0. 0.]\n",
            "mean scoore for precision\n",
            ": 0.0\n",
            "\n",
            "-----recall score :after cross validation------\n",
            "[0. 0. 0. 0. 0.]\n",
            "mean scoore for testing accuracy:\n",
            ": 0.9559452845172688\n",
            "\n",
            "-----f1 score: after cross validation------\n",
            "[0. 0. 0. 0. 0.]\n",
            "mean scoore for testing accuracy:\n",
            ": 0.9559452845172688\n"
          ]
        }
      ]
    },
    {
      "cell_type": "markdown",
      "source": [
        "# **(Confiusion matrix / Perceptron)**\n"
      ],
      "metadata": {
        "id": "hX-rgh9UQYI_"
      }
    },
    {
      "cell_type": "code",
      "source": [
        "confusion = confusion_matrix(y_test, y_pred)\n",
        "print('Confusion Matrix\\n')\n",
        "print(confusion)"
      ],
      "metadata": {
        "id": "aiHYbrHSQqAB",
        "colab": {
          "base_uri": "https://localhost:8080/"
        },
        "outputId": "2ec3b370-f34a-48c6-c51f-2c6d1084bcd4"
      },
      "execution_count": 30,
      "outputs": [
        {
          "output_type": "stream",
          "name": "stdout",
          "text": [
            "Confusion Matrix\n",
            "\n",
            "[[937   2]\n",
            " [ 43   0]]\n"
          ]
        }
      ]
    },
    {
      "cell_type": "code",
      "source": [
        "cm = confusion_matrix(y_test, y_pred, labels=np.unique(y_test))\n",
        "disp = ConfusionMatrixDisplay(confusion_matrix=cm,display_labels=np.unique(y_test))\n",
        "disp.plot()"
      ],
      "metadata": {
        "id": "FmVvHNy1QyNk",
        "colab": {
          "base_uri": "https://localhost:8080/",
          "height": 297
        },
        "outputId": "dce1ddf3-b8cd-48e4-e6e1-e78557cf7933"
      },
      "execution_count": 31,
      "outputs": [
        {
          "output_type": "execute_result",
          "data": {
            "text/plain": [
              "<sklearn.metrics._plot.confusion_matrix.ConfusionMatrixDisplay at 0x7ffb0aaedbe0>"
            ]
          },
          "metadata": {},
          "execution_count": 31
        },
        {
          "output_type": "display_data",
          "data": {
            "text/plain": [
              "<Figure size 432x288 with 2 Axes>"
            ],
            "image/png": "[encoded data removed]"
          },
          "metadata": {
            "needs_background": "light"
          }
        }
      ]
    }
  ]
}